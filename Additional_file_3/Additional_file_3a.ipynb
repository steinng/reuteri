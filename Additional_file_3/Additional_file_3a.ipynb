{
 "cells": [
  {
   "cell_type": "markdown",
   "metadata": {},
   "source": [
    "# This notebook:\n",
    "### 1. Reads the SBML model and adds tailored constraint\n",
    "### 2. Reads in neccessary experimental data file\n",
    "### 3. Creates bar plot in section 3.2.1\n",
    "### 4. Creates small bar plots and flux files (for Escher), used to create figures in section 3.2.2 and 3.2.3\n",
    "### 5. Predicts theoretical maximum yields of target compounds, with and without added engineering strategies in section 3.2.4"
   ]
  },
  {
   "cell_type": "markdown",
   "metadata": {},
   "source": [
    "### Import"
   ]
  },
  {
   "cell_type": "code",
   "execution_count": 1,
   "metadata": {},
   "outputs": [],
   "source": [
    "import cobra\n",
    "from cobra import Reaction\n",
    "import numpy as np\n",
    "import matplotlib.pyplot as plt"
   ]
  },
  {
   "cell_type": "markdown",
   "metadata": {},
   "source": [
    "### Add local paths to neccessary files"
   ]
  },
  {
   "cell_type": "code",
   "execution_count": 2,
   "metadata": {},
   "outputs": [],
   "source": [
    "sbml_model = '' # Add path to model here\n",
    "exp_data_file = '' # Add path to experimental data file here\n",
    "path_to_output_flux_files = '' # Add path to folder where you want flux files to be saved to"
   ]
  },
  {
   "cell_type": "markdown",
   "metadata": {},
   "source": [
    "### Functions used in this notebook"
   ]
  },
  {
   "cell_type": "code",
   "execution_count": 3,
   "metadata": {},
   "outputs": [],
   "source": [
    "def load_sbml_reuteri_model(model):\n",
    "    model = cobra.io.read_sbml_model(model)\n",
    "    EMP_PKP_flux = model.problem.Constraint(model.reactions.PFK.flux_expression*0.93 - model.reactions.G6PDH2r.flux_expression*0.07, lb=-1000, ub=0)\n",
    "    model.add_cons_vars(EMP_PKP_flux)\n",
    "    return model\n",
    "\n",
    "def constrain_and_optimize(data_dictionary):\n",
    "    for reaction, rate in data_dictionary.items():\n",
    "        if reaction == 'BIOMASS':\n",
    "            Experimental_list.append(float(rate))\n",
    "            continue\n",
    "        if float(rate) <= 0:\n",
    "            model.reactions.get_by_id(reaction).lower_bound = float(rate)\n",
    "            model.reactions.get_by_id(reaction).upper_bound = 0\n",
    "        if float(rate) >= 0:\n",
    "            model.reactions.get_by_id(reaction).upper_bound = float(rate)\n",
    "            model.reactions.get_by_id(reaction).lower_bound = 0\n",
    "        else:\n",
    "            continue\n",
    "    sol = model.optimize()\n",
    "    Predicted_list.append(sol.f)\n",
    "    return Predicted_list, Experimental_list\n",
    "\n",
    "def create_flux_file(optimization_solution, name_of_output_flux_file=''):\n",
    "    Flux_txt = open(path_to_output_flux_files+'/'+name_of_output_flux_file+'.txt','w')\n",
    "    Flux_txt.write('rxn, flux\\n')\n",
    "    for y in range(len(model.reactions)):\n",
    "        if model.reactions[y].id == 'QUIND':\n",
    "            Flux_txt.write(model.reactions[y].id + ', ' + str(30) + '\\n')\n",
    "        else:\n",
    "            Flux_txt.write(model.reactions[y].id + ', ' + str(optimization_solution.x[y]) + '\\n')\n",
    "    Flux_txt.close()\n",
    "    return\n",
    "\n",
    "def plot_for_escher(Data_Dictionary, Sol_Vector, Real_Sol_Vector, Reaction_ID, Metabolite_Name, Save_Name='', Strain_Cond=''):\n",
    "    n_groups = 1\n",
    "    plt.figure(figsize=(1.5,2))\n",
    "    number = np.arange(n_groups)\n",
    "    bar_width = 0.35\n",
    "    plt.bar(number, abs(Sol_Vector.x[model.reactions.index(Reaction_ID)]), bar_width, alpha=0.6, color='g')\n",
    "    plt.bar(number + bar_width+0.04, abs(Real_Sol_Vector.x[model.reactions.index(Reaction_ID)]), bar_width, alpha=0.2, color='g')\n",
    "    plt.bar(number + 2*bar_width+0.08, abs(Data_Dictionary[Reaction_ID]), bar_width, alpha=0.2, color='tab:orange')\n",
    "    plt.title(Metabolite_Name, fontsize=16)\n",
    "    plt.ylim(0,30)\n",
    "    plt.yticks(fontsize=16)\n",
    "    plt.xticks([])\n",
    "    plt.tight_layout()\n",
    "    print(Strain_Cond+Save_Name)\n",
    "    plt.show()\n",
    "    plt.close()\n",
    "    return\n",
    "\n",
    "def max_flux_of_target(model, EX_objective='', target=''):\n",
    "    with model:\n",
    "        model.objective = model.reactions.get_by_id(EX_objective)\n",
    "        model.add_cons_vars(EMP_PKP_flux)\n",
    "        sol = model.optimize().f\n",
    "        model.add_reactions([Reaction('MGS')]) # Add heterologous Methylglyoxal Synthase reaction\n",
    "        model.reactions.MGS.reaction = 'dhap_c -> mthgxl_c + pi_c'\n",
    "        MGS_sol = model.optimize().f\n",
    "    with model:\n",
    "        model.objective = model.reactions.get_by_id(EX_objective)\n",
    "        model.reactions.PFK.upper_bound = 1000 # Allow free PFK flux\n",
    "        model.add_reactions([Reaction('MGS')]) # Add heterologous Methylglyoxal Synthase reaction\n",
    "        model.reactions.MGS.reaction = 'dhap_c -> mthgxl_c + pi_c'\n",
    "        MGS_PFK_sol = model.optimize().f\n",
    "    print(target, '\\t', round(sol, 1), '\\t', round(MGS_sol, 1), '\\t', round(MGS_PFK_sol, 1))"
   ]
  },
  {
   "cell_type": "markdown",
   "metadata": {},
   "source": [
    "### Read in model and add tailored constraint, which limits flux through EMP pathway to max 7%"
   ]
  },
  {
   "cell_type": "code",
   "execution_count": 4,
   "metadata": {},
   "outputs": [],
   "source": [
    "model = load_sbml_reuteri_model(sbml_model)"
   ]
  },
  {
   "cell_type": "markdown",
   "metadata": {},
   "source": [
    "### Read in experimental data file and create data dictionaries"
   ]
  },
  {
   "cell_type": "code",
   "execution_count": 5,
   "metadata": {},
   "outputs": [],
   "source": [
    "WT_glc_dict = {}\n",
    "WT_glc_glyc_dict = {}\n",
    "SJ_glc_dict = {}\n",
    "SJ_glc_glyc_dict = {}\n",
    "adhE_glc_dict = {}\n",
    "adhE_glc_glyc_dict = {}\n",
    "\n",
    "data_file = open(exp_data_file, 'r')\n",
    "\n",
    "for line in data_file.readlines()[1:]:\n",
    "    line = line.split('\\t')\n",
    "    WT_glc_dict[line[0]] = float(line[2])\n",
    "    WT_glc_glyc_dict[line[0]] = float(line[3])\n",
    "    SJ_glc_dict[line[0]] = float(line[4])\n",
    "    SJ_glc_glyc_dict[line[0]] = float(line[5])\n",
    "    adhE_glc_dict[line[0]] = float(line[6])\n",
    "    adhE_glc_glyc_dict[line[0]] = float(line[7].strip('\\n'))\n",
    "data_file.close()"
   ]
  },
  {
   "cell_type": "markdown",
   "metadata": {},
   "source": [
    "### Constrain model, optimize and create lists for bar plot in section 3.2.1 and variables for section 3.2.2"
   ]
  },
  {
   "cell_type": "code",
   "execution_count": 6,
   "metadata": {
    "scrolled": true
   },
   "outputs": [],
   "source": [
    "Predicted_list = []\n",
    "Experimental_list = []\n",
    "\n",
    "constrain_and_optimize(WT_glc_dict) # For section 3.2.1\n",
    "constrain_and_optimize(WT_glc_glyc_dict) # For section 3.2.1\n",
    "constrain_and_optimize(SJ_glc_dict) # For section 3.2.1\n",
    "SJ_glc_real_sol = cobra.flux_analysis.pfba(model) # For section 3.2.2\n",
    "constrain_and_optimize(SJ_glc_glyc_dict) # For section 3.2.1\n",
    "SJ_glc_glyc_real_sol = cobra.flux_analysis.pfba(model) # For section 3.2.2\n",
    "constrain_and_optimize(adhE_glc_dict) # For section 3.2.1\n",
    "with model:\n",
    "    model.reactions.ACALD.knock_out()\n",
    "    adhE_glc_real_sol = cobra.flux_analysis.pfba(model) # For section 3.2.2\n",
    "constrain_and_optimize(adhE_glc_glyc_dict) # For section 3.2.1\n",
    "with model:\n",
    "    model.reactions.ACALD.knock_out()\n",
    "    adhE_glc_glyc_real_sol = cobra.flux_analysis.pfba(model) # For section 3.2.2"
   ]
  },
  {
   "cell_type": "markdown",
   "metadata": {},
   "source": [
    "### Create bar plot in section 3.2.1"
   ]
  },
  {
   "cell_type": "code",
   "execution_count": 7,
   "metadata": {},
   "outputs": [
    {
     "data": {
      "image/png": "[encoded data removed]",
      "text/plain": [
       "<Figure size 432x216 with 1 Axes>"
      ]
     },
     "metadata": {},
     "output_type": "display_data"
    }
   ],
   "source": [
    "Name_string = ('A', 'B', 'C', 'D', 'E', 'F')\n",
    "\n",
    "n_groups = 6\n",
    "\n",
    "fig, ax = plt.subplots(figsize=(6,3))\n",
    "\n",
    "index = np.arange(n_groups)\n",
    "bar_width = 0.35\n",
    "\n",
    "# Experimental growth rates for all replicates\n",
    "Replicates = [0,0,0,1,1,2,2,2,3,3,3,4,4,4,5,5,5]\n",
    "Experimental_Growth_Rates = [0.57,0.68,0.62,0.74,0.69,0.69,0.72,0.68,0.66,0.60,0.57,0.30,0.37,0.38,0.58,0.53,0.52]\n",
    "\n",
    "# Plot average experimental growth rate - light blue bars\n",
    "ax.bar(index, Experimental_list, bar_width, alpha=0.4, color='b', label='Experimental growth rate')\n",
    "\n",
    "# Plot experimental growth rates for each replicate used to determine average - dark blue dots\n",
    "ax.plot(Replicates, Experimental_Growth_Rates, 'bo', markersize=3)\n",
    "\n",
    "# Plot predicted growth rates, when model constrained with average experimental values\n",
    "ax.bar(index + bar_width, Predicted_list, bar_width, alpha=0.4, color='r', label='Predicted growth rate')\n",
    "\n",
    "ax.set_ylabel('Growth rate ($h^{-1}$)', fontsize=12) \n",
    "\n",
    "ax.set_xticks(index + bar_width / 2)\n",
    "ax.set_xticklabels(Name_string, fontsize=12)\n",
    "ax.set_ylim(0,1.1)\n",
    "ax.legend()\n",
    "\n",
    "fig.tight_layout()\n",
    "plt.show()"
   ]
  },
  {
   "cell_type": "markdown",
   "metadata": {},
   "source": [
    "### Create flux files for Escher used in section 3.2.2"
   ]
  },
  {
   "cell_type": "code",
   "execution_count": 8,
   "metadata": {},
   "outputs": [],
   "source": [
    "# Model constrained with uptake rates of glucose and 5 amino acids of the type strain (SJ) grown on glucose\n",
    "for reaction, rate in SJ_glc_dict.items():\n",
    "    if reaction == 'BIOMASS':\n",
    "        continue\n",
    "    if float(rate) <= 0:\n",
    "        model.reactions.get_by_id(reaction).lower_bound = float(rate)\n",
    "        model.reactions.get_by_id(reaction).upper_bound = 0\n",
    "    if float(rate) >= 0:\n",
    "        model.reactions.get_by_id(reaction).upper_bound = 1000\n",
    "        model.reactions.get_by_id(reaction).lower_bound = 0\n",
    "    else:\n",
    "        continue\n",
    "\n",
    "model.reactions.EX_lac__D_e.upper_bound = 0\n",
    "        \n",
    "# Optimize for growth and create flux file - Wild type (SJ) on glucose\n",
    "SJ_glc_sol = cobra.flux_analysis.pfba(model) \n",
    "create_flux_file(SJ_glc_sol, name_of_output_flux_file='Flux_file_SJ_glc')\n",
    "\n",
    "# Optimize for growth and create flux file - adhE mutant on glucose\n",
    "with model:\n",
    "    model.reactions.ACALD.knock_out()\n",
    "    AdhE_glc_sol = cobra.flux_analysis.pfba(model)\n",
    "    create_flux_file(AdhE_glc_sol, name_of_output_flux_file='Flux_file_adhE_glc')\n",
    "\n",
    "# Optimize for growth and create flux file - Wild type (SJ) on glucose and glycerol\n",
    "model.reactions.EX_glyc_e.lower_bound = -25\n",
    "SJ_glc_glyc_sol = cobra.flux_analysis.pfba(model)\n",
    "create_flux_file(SJ_glc_glyc_sol, name_of_output_flux_file='Flux_file_SJ_glc_glyc')\n",
    "\n",
    "# Optimize for growth and create flux file - adhE mutant on glucose and glycerol\n",
    "with model:\n",
    "    model.reactions.ACALD.knock_out()\n",
    "    AdhE_glc_glyc_sol = cobra.flux_analysis.pfba(model)\n",
    "    create_flux_file(AdhE_glc_glyc_sol, name_of_output_flux_file='Flux_file_adhE_glc_glyc')"
   ]
  },
  {
   "cell_type": "markdown",
   "metadata": {},
   "source": [
    "### Create small bar plots for section 3.2.2"
   ]
  },
  {
   "cell_type": "code",
   "execution_count": 9,
   "metadata": {},
   "outputs": [
    {
     "name": "stdout",
     "output_type": "stream",
     "text": [
      "SJ_glc__glc\n"
     ]
    },
    {
     "data": {
      "image/png": "[encoded data removed]",
      "text/plain": [
       "<Figure size 108x144 with 1 Axes>"
      ]
     },
     "metadata": {},
     "output_type": "display_data"
    },
    {
     "name": "stdout",
     "output_type": "stream",
     "text": [
      "SJ_glc__glyc\n"
     ]
    },
    {
     "data": {
      "image/png": "[encoded data removed]",
      "text/plain": [
       "<Figure size 108x144 with 1 Axes>"
      ]
     },
     "metadata": {},
     "output_type": "display_data"
    },
    {
     "name": "stdout",
     "output_type": "stream",
     "text": [
      "SJ_glc__lac\n"
     ]
    },
    {
     "data": {
      "image/png": "[encoded data removed]",
      "text/plain": [
       "<Figure size 108x144 with 1 Axes>"
      ]
     },
     "metadata": {},
     "output_type": "display_data"
    },
    {
     "name": "stdout",
     "output_type": "stream",
     "text": [
      "SJ_glc__ac\n"
     ]
    },
    {
     "data": {
      "image/png": "[encoded data removed]",
      "text/plain": [
       "<Figure size 108x144 with 1 Axes>"
      ]
     },
     "metadata": {},
     "output_type": "display_data"
    },
    {
     "name": "stdout",
     "output_type": "stream",
     "text": [
      "SJ_glc__etoh\n"
     ]
    },
    {
     "data": {
      "image/png": "[encoded data removed]",
      "text/plain": [
       "<Figure size 108x144 with 1 Axes>"
      ]
     },
     "metadata": {},
     "output_type": "display_data"
    },
    {
     "name": "stdout",
     "output_type": "stream",
     "text": [
      "SJ_glc__13ppd\n"
     ]
    },
    {
     "data": {
      "image/png": "[encoded data removed]",
      "text/plain": [
       "<Figure size 108x144 with 1 Axes>"
      ]
     },
     "metadata": {},
     "output_type": "display_data"
    },
    {
     "name": "stdout",
     "output_type": "stream",
     "text": [
      "SJ_glc__GR\n"
     ]
    },
    {
     "data": {
      "image/png": "[encoded data removed]",
      "text/plain": [
       "<Figure size 108x144 with 1 Axes>"
      ]
     },
     "metadata": {},
     "output_type": "display_data"
    },
    {
     "name": "stdout",
     "output_type": "stream",
     "text": [
      "SJ_glc_glyc__glc\n"
     ]
    },
    {
     "data": {
      "image/png": "[encoded data removed]",
      "text/plain": [
       "<Figure size 108x144 with 1 Axes>"
      ]
     },
     "metadata": {},
     "output_type": "display_data"
    },
    {
     "name": "stdout",
     "output_type": "stream",
     "text": [
      "SJ_glc_glyc__glyc\n"
     ]
    },
    {
     "data": {
      "image/png": "[encoded data removed]",
      "text/plain": [
       "<Figure size 108x144 with 1 Axes>"
      ]
     },
     "metadata": {},
     "output_type": "display_data"
    },
    {
     "name": "stdout",
     "output_type": "stream",
     "text": [
      "SJ_glc_glyc__lac\n"
     ]
    },
    {
     "data": {
      "image/png": "[encoded data removed]",
      "text/plain": [
       "<Figure size 108x144 with 1 Axes>"
      ]
     },
     "metadata": {},
     "output_type": "display_data"
    },
    {
     "name": "stdout",
     "output_type": "stream",
     "text": [
      "SJ_glc_glyc__ac\n"
     ]
    },
    {
     "data": {
      "image/png": "[encoded data removed]",
      "text/plain": [
       "<Figure size 108x144 with 1 Axes>"
      ]
     },
     "metadata": {},
     "output_type": "display_data"
    },
    {
     "name": "stdout",
     "output_type": "stream",
     "text": [
      "SJ_glc_glyc__etoh\n"
     ]
    },
    {
     "data": {
      "image/png": "[encoded data removed]",
      "text/plain": [
       "<Figure size 108x144 with 1 Axes>"
      ]
     },
     "metadata": {},
     "output_type": "display_data"
    },
    {
     "name": "stdout",
     "output_type": "stream",
     "text": [
      "SJ_glc_glyc__13ppd\n"
     ]
    },
    {
     "data": {
      "image/png": "[encoded data removed]",
      "text/plain": [
       "<Figure size 108x144 with 1 Axes>"
      ]
     },
     "metadata": {},
     "output_type": "display_data"
    },
    {
     "name": "stdout",
     "output_type": "stream",
     "text": [
      "SJ_glc_glyc__GR\n"
     ]
    },
    {
     "data": {
      "image/png": "[encoded data removed]",
      "text/plain": [
       "<Figure size 108x144 with 1 Axes>"
      ]
     },
     "metadata": {},
     "output_type": "display_data"
    },
    {
     "name": "stdout",
     "output_type": "stream",
     "text": [
      "AdhE_glc__glc\n"
     ]
    },
    {
     "data": {
      "image/png": "[encoded data removed]",
      "text/plain": [
       "<Figure size 108x144 with 1 Axes>"
      ]
     },
     "metadata": {},
     "output_type": "display_data"
    },
    {
     "name": "stdout",
     "output_type": "stream",
     "text": [
      "AdhE_glc__glyc\n"
     ]
    },
    {
     "data": {
      "image/png": "[encoded data removed]",
      "text/plain": [
       "<Figure size 108x144 with 1 Axes>"
      ]
     },
     "metadata": {},
     "output_type": "display_data"
    },
    {
     "name": "stdout",
     "output_type": "stream",
     "text": [
      "AdhE_glc__lac\n"
     ]
    },
    {
     "data": {
      "image/png": "[encoded data removed]",
      "text/plain": [
       "<Figure size 108x144 with 1 Axes>"
      ]
     },
     "metadata": {},
     "output_type": "display_data"
    },
    {
     "name": "stdout",
     "output_type": "stream",
     "text": [
      "AdhE_glc__ac\n"
     ]
    },
    {
     "data": {
      "image/png": "[encoded data removed]",
      "text/plain": [
       "<Figure size 108x144 with 1 Axes>"
      ]
     },
     "metadata": {},
     "output_type": "display_data"
    },
    {
     "name": "stdout",
     "output_type": "stream",
     "text": [
      "AdhE_glc__etoh\n"
     ]
    },
    {
     "data": {
      "image/png": "[encoded data removed]",
      "text/plain": [
       "<Figure size 108x144 with 1 Axes>"
      ]
     },
     "metadata": {},
     "output_type": "display_data"
    },
    {
     "name": "stdout",
     "output_type": "stream",
     "text": [
      "AdhE_glc__13ppd\n"
     ]
    },
    {
     "data": {
      "image/png": "[encoded data removed]",
      "text/plain": [
       "<Figure size 108x144 with 1 Axes>"
      ]
     },
     "metadata": {},
     "output_type": "display_data"
    },
    {
     "name": "stdout",
     "output_type": "stream",
     "text": [
      "AdhE_glc__GR\n"
     ]
    },
    {
     "data": {
      "image/png": "[encoded data removed]",
      "text/plain": [
       "<Figure size 108x144 with 1 Axes>"
      ]
     },
     "metadata": {},
     "output_type": "display_data"
    },
    {
     "name": "stdout",
     "output_type": "stream",
     "text": [
      "AdhE_glc_glyc__glc\n"
     ]
    },
    {
     "data": {
      "image/png": "[encoded data removed]",
      "text/plain": [
       "<Figure size 108x144 with 1 Axes>"
      ]
     },
     "metadata": {},
     "output_type": "display_data"
    },
    {
     "name": "stdout",
     "output_type": "stream",
     "text": [
      "AdhE_glc_glyc__glyc\n"
     ]
    },
    {
     "data": {
      "image/png": "[encoded data removed]",
      "text/plain": [
       "<Figure size 108x144 with 1 Axes>"
      ]
     },
     "metadata": {},
     "output_type": "display_data"
    },
    {
     "name": "stdout",
     "output_type": "stream",
     "text": [
      "AdhE_glc_glyc__lac\n"
     ]
    },
    {
     "data": {
      "image/png": "[encoded data removed]",
      "text/plain": [
       "<Figure size 108x144 with 1 Axes>"
      ]
     },
     "metadata": {},
     "output_type": "display_data"
    },
    {
     "name": "stdout",
     "output_type": "stream",
     "text": [
      "AdhE_glc_glyc__ac\n"
     ]
    },
    {
     "data": {
      "image/png": "[encoded data removed]",
      "text/plain": [
       "<Figure size 108x144 with 1 Axes>"
      ]
     },
     "metadata": {},
     "output_type": "display_data"
    },
    {
     "name": "stdout",
     "output_type": "stream",
     "text": [
      "AdhE_glc_glyc__etoh\n"
     ]
    },
    {
     "data": {
      "image/png": "[encoded data removed]",
      "text/plain": [
       "<Figure size 108x144 with 1 Axes>"
      ]
     },
     "metadata": {},
     "output_type": "display_data"
    },
    {
     "name": "stdout",
     "output_type": "stream",
     "text": [
      "AdhE_glc_glyc__13ppd\n"
     ]
    },
    {
     "data": {
      "image/png": "[encoded data removed]",
      "text/plain": [
       "<Figure size 108x144 with 1 Axes>"
      ]
     },
     "metadata": {},
     "output_type": "display_data"
    },
    {
     "name": "stdout",
     "output_type": "stream",
     "text": [
      "AdhE_glc_glyc__GR\n"
     ]
    },
    {
     "data": {
      "image/png": "[encoded data removed]",
      "text/plain": [
       "<Figure size 108x144 with 1 Axes>"
      ]
     },
     "metadata": {},
     "output_type": "display_data"
    }
   ],
   "source": [
    "Reaction_IDs = ['EX_glc__D_e', 'EX_glyc_e', 'EX_lac__L_e', 'EX_ac_e', 'EX_etoh_e', 'EX_13ppd_e', 'BIOMASS']\n",
    "Metabolites_Names = ['Glucose', 'Glycerol', 'Lactate', 'Acetate', 'Ethanol', '1,3-ppd', 'Growth']\n",
    "Save_Names = ['__glc', '__glyc', '__lac', '__ac', '__etoh', '__13ppd', '__GR']\n",
    "\n",
    "for index in range(len(Reaction_IDs)):\n",
    "    plot_for_escher(SJ_glc_dict, SJ_glc_sol, SJ_glc_real_sol, Reaction_IDs[index], Metabolites_Names[index], Save_Name=Save_Names[index], Strain_Cond='SJ_glc')\n",
    "\n",
    "for index in range(len(Reaction_IDs)):\n",
    "    plot_for_escher(SJ_glc_glyc_dict, SJ_glc_glyc_sol, SJ_glc_glyc_real_sol, Reaction_IDs[index], Metabolites_Names[index], Save_Name=Save_Names[index], Strain_Cond='SJ_glc_glyc')\n",
    "    \n",
    "for index in range(len(Reaction_IDs)):\n",
    "    plot_for_escher(adhE_glc_dict, AdhE_glc_sol, adhE_glc_real_sol, Reaction_IDs[index], Metabolites_Names[index], Save_Name=Save_Names[index], Strain_Cond='AdhE_glc')\n",
    "    \n",
    "for index in range(len(Reaction_IDs)):\n",
    "    plot_for_escher(adhE_glc_glyc_dict, AdhE_glc_glyc_sol, adhE_glc_glyc_real_sol, Reaction_IDs[index], Metabolites_Names[index], Save_Name=Save_Names[index], Strain_Cond='AdhE_glc_glyc')"
   ]
  },
  {
   "cell_type": "markdown",
   "metadata": {},
   "source": [
    "### Create flux file and bar plots for section 3.2.3"
   ]
  },
  {
   "cell_type": "code",
   "execution_count": 10,
   "metadata": {
    "scrolled": true
   },
   "outputs": [
    {
     "name": "stdout",
     "output_type": "stream",
     "text": [
      "Propanol produced when optimized for growth with an active 1,2-propanediol pathway:\n"
     ]
    },
    {
     "data": {
      "image/png": "[encoded data removed]",
      "text/plain": [
       "<Figure size 93.6x144 with 1 Axes>"
      ]
     },
     "metadata": {},
     "output_type": "display_data"
    },
    {
     "name": "stdout",
     "output_type": "stream",
     "text": [
      "Growth rate with an active 1,2-propanediol pathway:\n"
     ]
    },
    {
     "data": {
      "image/png": "[encoded data removed]",
      "text/plain": [
       "<Figure size 100.8x144 with 1 Axes>"
      ]
     },
     "metadata": {},
     "output_type": "display_data"
    }
   ],
   "source": [
    "model.reactions.EX_glyc_e.lower_bound = 0 # Reset uptake rate of glycerol to 0\n",
    "\n",
    "with model:\n",
    "    model.reactions.ACALD.knock_out()\n",
    "    MGS = Reaction('MGS')\n",
    "    model.add_reactions([MGS])\n",
    "    model.reactions.MGS.reaction = 'dhap_c  -> mthgxl_c + pi_c'\n",
    "    GR_ppoh = model.optimize().f\n",
    "    sol_ppoh = model.optimize()\n",
    "    plt.figure(figsize=(1.3,2))\n",
    "    plt.bar(2, sol_ppoh.x[model.reactions.index('EX_ppoh_e')], color='g', alpha=0.6, width=1.1)\n",
    "    plt.title('Propanol', fontsize=16)\n",
    "    plt.xlim(1,3)\n",
    "    plt.ylim(0,30)\n",
    "    plt.yticks(fontsize=16)\n",
    "    plt.xticks([])\n",
    "    plt.tight_layout()\n",
    "    print('Propanol produced when optimized for growth with an active 1,2-propanediol pathway:')\n",
    "    plt.show()\n",
    "    plt.close()\n",
    "    create_flux_file(sol_ppoh, name_of_output_flux_file='Flux_file_adhE-glc_with_ppoh_pathway')\n",
    "    plt.figure(figsize=(1.4,2))\n",
    "    plt.bar(2, GR_ppoh, color='g', alpha=0.6, width=1.1)\n",
    "    plt.title('Growth', fontsize=16)\n",
    "    plt.ylim(0,1.3)\n",
    "    plt.xlim(1,3)\n",
    "    plt.yticks(fontsize=16)\n",
    "    plt.xticks([])\n",
    "    plt.tight_layout()\n",
    "    print('Growth rate with an active 1,2-propanediol pathway:')\n",
    "    plt.show()\n",
    "    plt.close()\n"
   ]
  },
  {
   "cell_type": "markdown",
   "metadata": {},
   "source": [
    "### Predict production rate of target metabolites, with and without engineering strategies for section 3.2.4"
   ]
  },
  {
   "cell_type": "code",
   "execution_count": 11,
   "metadata": {},
   "outputs": [
    {
     "name": "stderr",
     "output_type": "stream",
     "text": [
      "Ignoring reaction 'MGS' since it already exists.\n",
      "Ignoring reaction 'MGS' since it already exists.\n"
     ]
    },
    {
     "name": "stdout",
     "output_type": "stream",
     "text": [
      "Ethanol \t 50.4 \t 50.4 \t 50.4\n",
      "Acetaldehyde \t -0.0 \t 31.5 \t 37.8\n",
      "1-Propanol (n-n) \t 20.2 \t 20.2 \t 20.2\n",
      "L-Alanine (n-n) \t 27.0 \t 27.0 \t 50.4\n",
      "R-Acetoin \t 0.0 \t 10.1 \t 18.9\n",
      "2,3-butanediol \t 0.0 \t 11.6 \t 21.6\n",
      "unknown metabolite 'lcoa__L_c' created\n",
      "unknown metabolite 'ethyllac_c' created\n",
      "Ethyl lactate (n-n) \t 20.4 \t 20.4 \t 25.2\n"
     ]
    }
   ],
   "source": [
    "# This is the default model (with AA and nucleotide uptake) but without limited PFK flux constraint)\n",
    "model = cobra.io.read_sbml_model(sbml_model)\n",
    "\n",
    "# PFK limiting flux constraint\n",
    "EMP_PKP_flux = model.problem.Constraint(model.reactions.PFK.flux_expression*0.93 - model.reactions.G6PDH2r.flux_expression*0.07, lb=-1000, ub=0)\n",
    "\n",
    "# Allow free secretion of by-products\n",
    "model.reactions.EX_ac_e.upper_bound = 1000\n",
    "model.reactions.EX_btd_RR_e.upper_bound = 1000\n",
    "model.reactions.EX_13ppd_e.upper_bound = 1000\n",
    "model.reactions.EX_lac__L_e.upper_bound = 1000\n",
    "model.reactions.EX_lac__D_e.upper_bound = 1000\n",
    "model.reactions.EX_etoh_e.upper_bound = 1000\n",
    "\n",
    "# Don´t allow uptake of amino acids and nucleotides. We only want to predict production of products from glucose.\n",
    "model.reactions.EX_glu__L_e.lower_bound = 0\n",
    "model.reactions.EX_arg__L_e.lower_bound = 0\n",
    "model.reactions.EX_ser__L_e.lower_bound = 0\n",
    "model.reactions.EX_asn__L_e.lower_bound = 0\n",
    "model.reactions.EX_asp__L_e.lower_bound = 0\n",
    "model.reactions.EX_ade_e.lower_bound = 0\n",
    "model.reactions.EX_ura_e.lower_bound = 0\n",
    "model.reactions.EX_xan_e.lower_bound = 0\n",
    "model.reactions.EX_gua_e.lower_bound = 0\n",
    "\n",
    "# Ethonal\n",
    "max_flux_of_target(model, EX_objective='EX_etoh_e', target='Ethanol')\n",
    "\n",
    "# Acetaldehyde\n",
    "max_flux_of_target(model, EX_objective='EX_acald_e', target='Acetaldehyde')\n",
    "\n",
    "# 1-propanol (n-n)\n",
    "with model:\n",
    "    model.add_reactions([Reaction('MGS')]) # Add heterologous Methylglyoxal Synthase reaction\n",
    "    model.reactions.MGS.reaction = 'dhap_c -> mthgxl_c + pi_c'\n",
    "    max_flux_of_target(model, EX_objective='EX_ppoh_e', target='1-Propanol (n-n)')\n",
    "\n",
    "# Alanine (n-n)    \n",
    "with model:\n",
    "    model.add_reactions([Reaction('ALAD_L')]) # Add heterologous Alanine dehydrogenase reaction\n",
    "    model.reactions.ALAD_L.reaction = 'ala__L_c + h2o_c + nad_c <=> h_c + nadh_c + nh4_c + pyr_c'\n",
    "    max_flux_of_target(model, EX_objective='EX_ala__L_e', target='L-Alanine (n-n)')\n",
    "\n",
    "# Acetoin\n",
    "max_flux_of_target(model, EX_objective='EX_actn__R_e', target='R-Acetoin')\n",
    "\n",
    "# 2,3-butanediol\n",
    "max_flux_of_target(model, EX_objective='EX_btd_RR_e', target='2,3-butanediol')\n",
    "\n",
    "# Ethyl lactate (n-n)\n",
    "with model:\n",
    "    model.add_reactions([Reaction('LACAT')]) # Add heterologous Lacatate Acyltransferase reaction\n",
    "    model.reactions.LACAT.reaction = 'ac_c + lcoa__L_c <=> accoa_c + lac__L_c'\n",
    "    model.add_reactions([Reaction('VAAT')]) # Add heterologous Esterification reaction\n",
    "    model.reactions.VAAT.reaction = 'etoh_c + lcoa__L_c <=> ethyllac_c + coa_c'\n",
    "    model.add_reactions([Reaction('DM_ethyllac_c')]) # Add Demand reaction for Ethyl lactate\n",
    "    model.reactions.DM_ethyllac_c.reaction = 'ethyllac_c -> '\n",
    "    max_flux_of_target(model, EX_objective='DM_ethyllac_c', target='Ethyl lactate (n-n)')\n"
   ]
  },
  {
   "cell_type": "code",
   "execution_count": null,
   "metadata": {},
   "outputs": [],
   "source": []
  }
 ],
 "metadata": {
  "kernelspec": {
   "display_name": "Python 3",
   "language": "python",
   "name": "python3"
  },
  "language_info": {
   "codemirror_mode": {
    "name": "ipython",
    "version": 3
   },
   "file_extension": ".py",
   "mimetype": "text/x-python",
   "name": "python",
   "nbconvert_exporter": "python",
   "pygments_lexer": "ipython3",
   "version": "3.6.5"
  }
 },
 "nbformat": 4,
 "nbformat_minor": 2
}
